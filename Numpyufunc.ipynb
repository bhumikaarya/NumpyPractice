{
 "cells": [
  {
   "cell_type": "markdown",
   "id": "2dc88ac8-94f8-411c-bcd9-f924a66fa185",
   "metadata": {},
   "source": [
    "**NUMPY UFUNC**"
   ]
  },
  {
   "cell_type": "markdown",
   "id": "dc045a43-fc07-4249-ae15-1499904a5cfd",
   "metadata": {},
   "source": [
    "***CREATING UFUNC***"
   ]
  },
  {
   "cell_type": "code",
   "execution_count": 3,
   "id": "2e881736-af89-4fcc-be2a-800d0a8d3a0c",
   "metadata": {},
   "outputs": [],
   "source": [
    "import numpy as np "
   ]
  },
  {
   "cell_type": "code",
   "execution_count": 5,
   "id": "d6588cc2-e6bb-41cd-a588-ade3f2119c3c",
   "metadata": {},
   "outputs": [
    {
     "name": "stdout",
     "output_type": "stream",
     "text": [
      "[6 8 10 12 14]\n",
      "<class 'numpy.ufunc'>\n"
     ]
    }
   ],
   "source": [
    "def myadd(x,y):\n",
    "    return x+y\n",
    "myadd=np.frompyfunc(myadd,2,1)#2 is input and 1 is output\n",
    "print(myadd([1,2,3,4,5],[5,6,7,8,9]))\n",
    "print(type(np.add))#prints the type of add"
   ]
  },
  {
   "cell_type": "code",
   "execution_count": 7,
   "id": "e61f957b-2d95-4fc3-987b-e6dff5854fc7",
   "metadata": {},
   "outputs": [
    {
     "name": "stdout",
     "output_type": "stream",
     "text": [
      "add is ufunc.\n"
     ]
    }
   ],
   "source": [
    "#to check func is universal or not \n",
    "if type(np.add)==np.ufunc:\n",
    "    print('add is ufunc.')\n",
    "else:\n",
    "    print('add is npot ufunc')"
   ]
  },
  {
   "cell_type": "markdown",
   "id": "9c05d23c-5797-4337-a857-d3046966df79",
   "metadata": {},
   "source": [
    "***SIMPLE ARITHMETIC***"
   ]
  },
  {
   "cell_type": "code",
   "execution_count": 10,
   "id": "4da1ffec-f9a4-470e-84fa-48881cd81ce2",
   "metadata": {},
   "outputs": [
    {
     "name": "stdout",
     "output_type": "stream",
     "text": [
      "[ 6  8 10 12 14]\n",
      "[4 4 4 4 4]\n",
      "[ 5 12 21 32 45]\n",
      "[0.2        0.33333333 0.42857143 0.5        0.55555556]\n"
     ]
    }
   ],
   "source": [
    "arr1=np.array([1,2,3,4,5])\n",
    "arr2=np.array([5,6,7,8,9])\n",
    "add=np.add(arr1,arr2)\n",
    "sub=np.subtract(arr2,arr1)\n",
    "mul=np.multiply(arr1,arr2)\n",
    "div=np.divide(arr1,arr2)\n",
    "print(add)\n",
    "print(sub)\n",
    "print(mul)\n",
    "print(div)"
   ]
  },
  {
   "cell_type": "code",
   "execution_count": 12,
   "id": "7f8c80b6-f231-408f-9722-347e67574208",
   "metadata": {},
   "outputs": [
    {
     "name": "stdout",
     "output_type": "stream",
     "text": [
      "[ 2  4  6  8 10]\n"
     ]
    }
   ],
   "source": [
    "scalar_multiply=np.multiply(arr1,2)\n",
    "print(scalar_multiply)"
   ]
  },
  {
   "cell_type": "markdown",
   "id": "9ac950e8-19db-4131-bcbf-01397dd97d6e",
   "metadata": {},
   "source": [
    "***ROUNDING DECIMAL***"
   ]
  },
  {
   "cell_type": "code",
   "execution_count": 16,
   "id": "6d9b4cc4-0caa-4b0c-b0db-6eec7aefca4a",
   "metadata": {},
   "outputs": [
    {
     "name": "stdout",
     "output_type": "stream",
     "text": [
      "[0.2  0.33 0.43 0.5  0.56]\n"
     ]
    }
   ],
   "source": [
    "div=np.divide(arr1,arr2)\n",
    "print(np.round(div, decimals=2))"
   ]
  },
  {
   "cell_type": "code",
   "execution_count": 18,
   "id": "9f598e53-d2c1-431e-b4ec-21803c9c7c48",
   "metadata": {},
   "outputs": [
    {
     "name": "stdout",
     "output_type": "stream",
     "text": [
      "[0.2 0.3 0.4 0.5 0.6]\n"
     ]
    }
   ],
   "source": [
    "around_div=np.around(div,decimals=1)\n",
    "print(around_div)"
   ]
  },
  {
   "cell_type": "markdown",
   "id": "d06c7943-ce45-4ba5-9394-1369683a53ce",
   "metadata": {},
   "source": [
    "***LOGS***"
   ]
  },
  {
   "cell_type": "code",
   "execution_count": 21,
   "id": "880b5e12-7b75-45b3-a590-06184a0be4b0",
   "metadata": {},
   "outputs": [
    {
     "name": "stdout",
     "output_type": "stream",
     "text": [
      "[0.         0.69314718 1.09861229 1.38629436 1.60943791]\n"
     ]
    }
   ],
   "source": [
    "#LOGRITHM FUNTION IS NUMPY UNIVERSAL FUNCTION AT \n",
    "#BACKBONE OF THE OPERATIONS IN PYTHON.\n",
    "num=np.array([1,2,3,4,5])\n",
    "print(np.log(num))"
   ]
  },
  {
   "cell_type": "code",
   "execution_count": 27,
   "id": "bc779b97-9f4d-45f0-bbd8-ef032cd8ad8c",
   "metadata": {},
   "outputs": [
    {
     "name": "stdout",
     "output_type": "stream",
     "text": [
      "[  2.71828183   7.3890561   20.08553692  54.59815003 148.4131591 ]\n"
     ]
    }
   ],
   "source": [
    "#for exponential result\n",
    "print(np.exp(num))"
   ]
  },
  {
   "cell_type": "code",
   "execution_count": 25,
   "id": "dc26b35c-cbb5-4238-aa61-8ab92144e54b",
   "metadata": {},
   "outputs": [
    {
     "name": "stdout",
     "output_type": "stream",
     "text": [
      "[0.         0.30103    0.47712125 0.60205999 0.69897   ]\n"
     ]
    }
   ],
   "source": [
    "#for log base 10 result \n",
    "print(np.log10(num))"
   ]
  },
  {
   "cell_type": "markdown",
   "id": "f8b46b02-4f4c-457c-a963-2f1b425e2414",
   "metadata": {},
   "source": [
    "***SUMMATIONS***"
   ]
  },
  {
   "cell_type": "code",
   "execution_count": 32,
   "id": "27827088-bb72-4083-9201-5aca1f7aa876",
   "metadata": {},
   "outputs": [
    {
     "name": "stdout",
     "output_type": "stream",
     "text": [
      "150\n"
     ]
    }
   ],
   "source": [
    "#SUMMATIONS IS THE FUNDAMENTAL OPERATION FOR DATA MANIPULATION AND ANALYSIS\n",
    "data_array=np.array([10,20,30,40,50])\n",
    "print(np.sum(data_array))"
   ]
  },
  {
   "cell_type": "code",
   "execution_count": 61,
   "id": "b09da5a6-f8f5-4576-9d6d-9befc8e68d3a",
   "metadata": {},
   "outputs": [
    {
     "name": "stdout",
     "output_type": "stream",
     "text": [
      "150\n"
     ]
    }
   ],
   "source": [
    "#creating summation with along axis\n",
    "axis_sum=np.sum(data_array,axis=0)#summation along row \n",
    "print(axis_sum)"
   ]
  },
  {
   "cell_type": "code",
   "execution_count": 48,
   "id": "0c1fe687-9e18-4050-949f-0697b17cb3ef",
   "metadata": {},
   "outputs": [
    {
     "name": "stdout",
     "output_type": "stream",
     "text": [
      "[ 6 15]\n"
     ]
    }
   ],
   "source": [
    "data=np.array([[1,2,3],[4,5,6]])\n",
    "axis_sum=np.sum(data,axis=1)#summation along row\n",
    "print(axis_sum)"
   ]
  },
  {
   "cell_type": "code",
   "execution_count": 50,
   "id": "92c5f24f-e2ad-4a69-b128-3dbedf5024c7",
   "metadata": {},
   "outputs": [
    {
     "name": "stdout",
     "output_type": "stream",
     "text": [
      "[5 7 9]\n"
     ]
    }
   ],
   "source": [
    "data=np.array([[1,2,3],[4,5,6]])\n",
    "axis_sum=np.sum(data,axis=0)#summation along column\n",
    "print(axis_sum)"
   ]
  },
  {
   "cell_type": "code",
   "execution_count": 56,
   "id": "021532d8-bd7e-4505-a028-a5451397bf1f",
   "metadata": {},
   "outputs": [
    {
     "name": "stdout",
     "output_type": "stream",
     "text": [
      "[ 10  30  60 100 150]\n"
     ]
    }
   ],
   "source": [
    "#cummulative sum funtion \n",
    "#cumcum() method is used to add the terms in consecutive way such that\n",
    "#eg [1,2,3,4]---->[1,1+2,1+2+3,1+2+3+4]----->[1,3,6,10]\n",
    "data_array=np.array([10,20,30,40,50])\n",
    "print(np.cumsum(data_array))"
   ]
  },
  {
   "cell_type": "markdown",
   "id": "be9fb2fb-1ec6-4d57-98b0-36230dbafb11",
   "metadata": {},
   "source": [
    "***PRODUCTS***"
   ]
  },
  {
   "cell_type": "code",
   "execution_count": 59,
   "id": "95447d3f-0945-4ab7-9489-dec6d715ce23",
   "metadata": {},
   "outputs": [
    {
     "name": "stdout",
     "output_type": "stream",
     "text": [
      "3628800\n"
     ]
    }
   ],
   "source": [
    "#PRODUCT FUNCTION PRODUCTS THE NUMBER OF ELEMENT PRESENT IN ARRAY\n",
    "#WITH THE HELP OF prod() METHOD WE CALCULATE THE PRODUCT OF AN ARRAY ELEMENTS\n",
    "arr=np.array([1,2,3,4,5,6,7,8,9,10])\n",
    "print(np.prod(arr))"
   ]
  },
  {
   "cell_type": "code",
   "execution_count": 63,
   "id": "a93545f2-17da-4f31-86b5-62c620cb1943",
   "metadata": {},
   "outputs": [
    {
     "name": "stdout",
     "output_type": "stream",
     "text": [
      "3628800\n"
     ]
    }
   ],
   "source": [
    "#product along axis\n",
    "axis_prod=np.prod(arr,axis=0)\n",
    "print(axis_prod)"
   ]
  },
  {
   "cell_type": "code",
   "execution_count": 71,
   "id": "43010b41-1f83-4143-9d57-e3dad131ca15",
   "metadata": {},
   "outputs": [
    {
     "name": "stdout",
     "output_type": "stream",
     "text": [
      "[ 6 14 24 36 50]\n",
      "[  120 30240]\n"
     ]
    }
   ],
   "source": [
    "arr=np.array([[1,2,3,4,5],[6,7,8,9,10]])\n",
    "#along axis=0-->column\n",
    "axis_prod=np.prod(arr,axis=0)\n",
    "print(axis_prod)\n",
    "#along axis=1-->row\n",
    "axis_prod1=np.prod(arr,axis=1)\n",
    "print(axis_prod1)"
   ]
  },
  {
   "cell_type": "code",
   "execution_count": 73,
   "id": "44a5706f-e2c5-4e7f-8a08-4866d0d6cd09",
   "metadata": {},
   "outputs": [
    {
     "name": "stdout",
     "output_type": "stream",
     "text": [
      "[      1       2       6      24     120     720    5040   40320  362880\n",
      " 3628800]\n"
     ]
    }
   ],
   "source": [
    "#cummulative product-->cumprod() method is used\n",
    "arr=np.array([1,2,3,4,5,6,7,8,9,10])\n",
    "print(np.cumprod(arr))"
   ]
  },
  {
   "cell_type": "code",
   "execution_count": null,
   "id": "fb3775f8-5ced-4943-bd01-07482a0d1529",
   "metadata": {},
   "outputs": [],
   "source": []
  }
 ],
 "metadata": {
  "kernelspec": {
   "display_name": "Python 3 (ipykernel)",
   "language": "python",
   "name": "python3"
  },
  "language_info": {
   "codemirror_mode": {
    "name": "ipython",
    "version": 3
   },
   "file_extension": ".py",
   "mimetype": "text/x-python",
   "name": "python",
   "nbconvert_exporter": "python",
   "pygments_lexer": "ipython3",
   "version": "3.10.9"
  }
 },
 "nbformat": 4,
 "nbformat_minor": 5
}
