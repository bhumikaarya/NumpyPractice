{
 "cells": [
  {
   "cell_type": "code",
   "execution_count": 2,
   "id": "2b9cb418-4a30-4896-86d2-fe87d82e3d09",
   "metadata": {},
   "outputs": [],
   "source": [
    "import numpy as np "
   ]
  },
  {
   "cell_type": "code",
   "execution_count": 4,
   "id": "09b48e8e-d6c0-4b3b-b9c8-363f37c79555",
   "metadata": {},
   "outputs": [
    {
     "name": "stdout",
     "output_type": "stream",
     "text": [
      "[1 2 3 4 5]\n",
      "<class 'numpy.ndarray'>\n"
     ]
    }
   ],
   "source": [
    "arr=np.array([1,2,3,4,5])\n",
    "print(arr)\n",
    "print(type(arr))"
   ]
  },
  {
   "cell_type": "code",
   "execution_count": 6,
   "id": "cccfb7af-4fee-4e65-bc9f-92a8262dd69e",
   "metadata": {},
   "outputs": [
    {
     "name": "stdout",
     "output_type": "stream",
     "text": [
      "[1 2 3 4 5]\n",
      "<class 'numpy.ndarray'>\n"
     ]
    }
   ],
   "source": [
    "arr=np.array((1,2,3,4,5))\n",
    "print(arr)\n",
    "print(type(arr))"
   ]
  },
  {
   "cell_type": "markdown",
   "id": "fff2de8c-500d-4dd0-a60e-23adb60f8e4c",
   "metadata": {},
   "source": [
    "**Dimension in array**"
   ]
  },
  {
   "cell_type": "code",
   "execution_count": 9,
   "id": "7d753506-fa42-43c4-b5d4-4761caae0a01",
   "metadata": {},
   "outputs": [
    {
     "name": "stdout",
     "output_type": "stream",
     "text": [
      "20\n",
      "<class 'numpy.ndarray'>\n",
      "0\n"
     ]
    }
   ],
   "source": [
    "c=np.array(20)#0d array\n",
    "print(c)\n",
    "print(type(c))\n",
    "print(c.ndim)#ndim for printing the dimenstion of array"
   ]
  },
  {
   "cell_type": "code",
   "execution_count": 11,
   "id": "6df0df98-17b3-422c-88b7-f7b81c11411e",
   "metadata": {},
   "outputs": [
    {
     "name": "stdout",
     "output_type": "stream",
     "text": [
      "[1 2 3 4 5]\n",
      "<class 'numpy.ndarray'>\n",
      "1\n"
     ]
    }
   ],
   "source": [
    "d=np.array([1,2,3,4,5])#1d array\n",
    "print(d)\n",
    "print(type(d))\n",
    "print(d.ndim)"
   ]
  },
  {
   "cell_type": "code",
   "execution_count": 13,
   "id": "fe621638-c919-4485-969e-54644a8c7f58",
   "metadata": {},
   "outputs": [
    {
     "name": "stdout",
     "output_type": "stream",
     "text": [
      "[[1 2]\n",
      " [3 4]\n",
      " [5 6]\n",
      " [7 8]]\n",
      "2\n"
     ]
    }
   ],
   "source": [
    "#2d array\n",
    "e=np.array([[1,2],[3,4],[5,6],[7,8]])\n",
    "print(e)\n",
    "print(e.ndim)"
   ]
  },
  {
   "cell_type": "code",
   "execution_count": 15,
   "id": "8c2b23d3-304a-456f-b643-ee682e9f662d",
   "metadata": {},
   "outputs": [
    {
     "name": "stdout",
     "output_type": "stream",
     "text": [
      "[[[1 2 3]\n",
      "  [4 5 6]\n",
      "  [7 8 9]]]\n",
      "3\n"
     ]
    }
   ],
   "source": [
    "#3d array\n",
    "f=np.array([[[1,2,3],[4,5,6],[7,8,9]]])\n",
    "print(f)\n",
    "print(f.ndim)"
   ]
  },
  {
   "cell_type": "markdown",
   "id": "838409a2-b537-4e05-9dec-843d2f970581",
   "metadata": {},
   "source": [
    "**NUMPY ARRAY INDEXING**"
   ]
  },
  {
   "cell_type": "code",
   "execution_count": 18,
   "id": "905c69c1-61c2-46f6-a95e-77ffc36576aa",
   "metadata": {},
   "outputs": [
    {
     "name": "stdout",
     "output_type": "stream",
     "text": [
      "1\n"
     ]
    }
   ],
   "source": [
    "c=np.array([1,2,3,4])\n",
    "print(c[0])"
   ]
  },
  {
   "cell_type": "markdown",
   "id": "12ef460c-37e6-4b09-9e31-0a9f190ee435",
   "metadata": {},
   "source": [
    "Array indexing is same as finding an array element."
   ]
  },
  {
   "cell_type": "code",
   "execution_count": 21,
   "id": "80ef23d7-718c-4ce3-b586-095e9a44fce8",
   "metadata": {},
   "outputs": [
    {
     "name": "stdout",
     "output_type": "stream",
     "text": [
      "Second element on 1st row: 2\n",
      "Second element on 2nd row: 7\n"
     ]
    }
   ],
   "source": [
    "c=np.array([[1,2,3,4,5],[6,7,8,9,10]])\n",
    "print(\"Second element on 1st row:\",c[0,1])\n",
    "print(\"Second element on 2nd row:\",c[1,1])"
   ]
  },
  {
   "cell_type": "code",
   "execution_count": 23,
   "id": "2452ac59-eda9-49d6-96ed-79ffc3a5da49",
   "metadata": {},
   "outputs": [
    {
     "name": "stdout",
     "output_type": "stream",
     "text": [
      "First element on 1st row: 1\n",
      "Last element on 2nd row: 10\n",
      "Sum is  11\n"
     ]
    }
   ],
   "source": [
    "#adding the 1st elemnt of row 1 and last elemnt of row 2\n",
    "c=np.array([[1,2,3,4,5],[6,7,8,9,10]])\n",
    "print(\"First element on 1st row:\",c[0,0])\n",
    "print(\"Last element on 2nd row:\",c[1,4])\n",
    "print(\"Sum is \",c[0,0]+c[1,4])"
   ]
  },
  {
   "cell_type": "code",
   "execution_count": 25,
   "id": "3b30872c-8812-4577-a8b5-7b76b1b830e4",
   "metadata": {},
   "outputs": [
    {
     "name": "stdout",
     "output_type": "stream",
     "text": [
      "6\n"
     ]
    }
   ],
   "source": [
    "#accessing the third element of second array of first array\n",
    "f=np.array([[[1,2,3],[4,5,6]],[[7,8,9],[4,5,6]]])\n",
    "print(f[0,1,2])"
   ]
  },
  {
   "cell_type": "markdown",
   "id": "2e33ec60-17df-4281-854e-0ffdac36168b",
   "metadata": {},
   "source": [
    "**SLICING OF NUMPY ARRAY**"
   ]
  },
  {
   "cell_type": "code",
   "execution_count": 28,
   "id": "9ae8ae7e-ee16-45a0-a405-5df87babe1e4",
   "metadata": {},
   "outputs": [
    {
     "name": "stdout",
     "output_type": "stream",
     "text": [
      "[7 8 9]\n"
     ]
    }
   ],
   "source": [
    "#2d array slicing\n",
    "p=np.array([[1,2,3,4,5],[6,7,8,9,10]])\n",
    "print(p[1,1:4])\n",
    "#1 is [6,7,8,9,10]\n",
    "#1:4 is the range to find the value in range (0,4)\n",
    "#overall it means is slicing element in 1 element list."
   ]
  },
  {
   "cell_type": "code",
   "execution_count": 30,
   "id": "8d7d4e09-0151-449f-8ac6-f4fa9f127b9f",
   "metadata": {},
   "outputs": [
    {
     "name": "stdout",
     "output_type": "stream",
     "text": [
      "[4 5 6]\n"
     ]
    }
   ],
   "source": [
    "#3d array slicing\n",
    "f=np.array([[[1,2,3],[4,5,6]],[[7,8,9],[4,5,6]]])\n",
    "print(f[0,1,0:3])\n",
    "#here 0 is [[1,2,3],[4,5,6]] \n",
    "#1 is [4,5,6]\n",
    "#0:3 is the indexing done to get the values output in range(0,3)"
   ]
  },
  {
   "cell_type": "code",
   "execution_count": 32,
   "id": "8b751471-9fd2-4afc-b7a4-0e306158d227",
   "metadata": {},
   "outputs": [
    {
     "name": "stdout",
     "output_type": "stream",
     "text": [
      "[1 2 3]\n"
     ]
    }
   ],
   "source": [
    "#1d array slicing\n",
    "c=np.array([1,2,3,4])\n",
    "print(c[0:3])"
   ]
  },
  {
   "cell_type": "code",
   "execution_count": 34,
   "id": "e5b82782-486f-4f2e-9ea6-b46e2199a222",
   "metadata": {},
   "outputs": [
    {
     "name": "stdout",
     "output_type": "stream",
     "text": [
      "[ 1  3  5  7  9 11 14]\n"
     ]
    }
   ],
   "source": [
    "#1d array slicing\n",
    "c=np.array([1,2,3,4,5,6,7,8,9,10,11,12,14,15])\n",
    "print(c[0:13:2])\n",
    "#o is starting index\n",
    "#13 is the ending of index till where we want slicing\n",
    "#2 is the step"
   ]
  },
  {
   "cell_type": "markdown",
   "id": "21937433-a5dd-4797-9583-383e4f52d8bf",
   "metadata": {},
   "source": [
    "**CHECKING THE DATATYPE OF AN ARRAY**"
   ]
  },
  {
   "cell_type": "code",
   "execution_count": 37,
   "id": "691fb495-3a1d-4564-ae89-58975c2291f8",
   "metadata": {},
   "outputs": [
    {
     "name": "stdout",
     "output_type": "stream",
     "text": [
      "int32\n",
      "<U10\n"
     ]
    }
   ],
   "source": [
    "A=np.array([1,2,3,4,5])\n",
    "a=np.array(['animal','birds','plants','seahoreses'])\n",
    "print(A.dtype)\n",
    "print(a.dtype)#data is of type unicode 10\n"
   ]
  },
  {
   "cell_type": "markdown",
   "id": "b16e5d7e-5519-4ae8-b4c4-2e7d52a33f53",
   "metadata": {},
   "source": [
    "**CREATING ARRAY WITH DEFINED DATATYPE**"
   ]
  },
  {
   "cell_type": "code",
   "execution_count": 40,
   "id": "b94510ca-c3bb-4855-b7a9-0752f872ade4",
   "metadata": {},
   "outputs": [
    {
     "name": "stdout",
     "output_type": "stream",
     "text": [
      "[b'1' b'2' b'3' b'4']\n",
      "|S1\n"
     ]
    }
   ],
   "source": [
    "b=np.array([1,2,3,4],dtype='S')\n",
    "#here S is for string so output is converted to string type.\n",
    "print(b)\n",
    "print(b.dtype)"
   ]
  },
  {
   "cell_type": "markdown",
   "id": "9e1bee52-bf3e-434b-8a8b-c7e2c2d78a57",
   "metadata": {},
   "source": [
    "**CREATE ARRAY WITH DATATYPE 4 BYTE INTEGER**"
   ]
  },
  {
   "cell_type": "code",
   "execution_count": 43,
   "id": "3186d2d4-4a1e-41f3-bbfe-e7f8e2acdd41",
   "metadata": {},
   "outputs": [
    {
     "name": "stdout",
     "output_type": "stream",
     "text": [
      "[1 2 3 4]\n",
      "int32\n"
     ]
    }
   ],
   "source": [
    "c=np.array([1,2,3,4],dtype='i4')\n",
    "print(c)\n",
    "print(c.dtype)"
   ]
  },
  {
   "cell_type": "markdown",
   "id": "be00a5fa-cc8f-4857-9b75-62410e886c9b",
   "metadata": {},
   "source": [
    "**NUMPY ARRAY SHAPE**"
   ]
  },
  {
   "cell_type": "markdown",
   "id": "40e9dd6b-1aed-4c88-8489-0bfbf1ce49c3",
   "metadata": {},
   "source": [
    "THE SHAPE OF AN ARRAY IS THE NUMBER OF ELEMENT IN EACH DIMENSION."
   ]
  },
  {
   "cell_type": "code",
   "execution_count": 47,
   "id": "2a4576da-2fff-426e-a6e3-22f54ed1c691",
   "metadata": {},
   "outputs": [
    {
     "name": "stdout",
     "output_type": "stream",
     "text": [
      "(2, 5)\n"
     ]
    }
   ],
   "source": [
    "p=np.array([[1,2,3,4,5],[6,7,8,9,10]])\n",
    "print(p.shape)"
   ]
  },
  {
   "cell_type": "code",
   "execution_count": 49,
   "id": "a25c54d0-4005-44f3-9064-ffcaf67ec41e",
   "metadata": {},
   "outputs": [
    {
     "name": "stdout",
     "output_type": "stream",
     "text": [
      "(2, 2, 3)\n"
     ]
    }
   ],
   "source": [
    "f=np.array([[[1,2,3],[4,5,6]],[[7,8,9],[4,5,6]]])\n",
    "print(f.shape)"
   ]
  },
  {
   "cell_type": "markdown",
   "id": "6c3aa777-2c86-449c-b6f7-90f35dcbe196",
   "metadata": {},
   "source": [
    "**JOINING TWO NUMPY ARRAY**"
   ]
  },
  {
   "cell_type": "code",
   "execution_count": 52,
   "id": "9c8d2033-3954-4c9d-a91a-090f3c86f353",
   "metadata": {},
   "outputs": [
    {
     "name": "stdout",
     "output_type": "stream",
     "text": [
      "[1 2 3 4 5 6]\n"
     ]
    }
   ],
   "source": [
    "#1d array concatination\n",
    "arr1=np.array([1,2,3])\n",
    "arr2=np.array([4,5,6])\n",
    "arr=np.concatenate((arr1,arr2))\n",
    "print(arr)"
   ]
  },
  {
   "cell_type": "code",
   "execution_count": 54,
   "id": "4fc0eb6c-77ec-4348-90a5-97efe06a33a6",
   "metadata": {},
   "outputs": [
    {
     "name": "stdout",
     "output_type": "stream",
     "text": [
      "[[1 2 3 5 6 7]\n",
      " [4 5 6 7 8 9]]\n",
      "[[1 2 3]\n",
      " [4 5 6]\n",
      " [5 6 7]\n",
      " [7 8 9]]\n"
     ]
    }
   ],
   "source": [
    "#2d array concatination\n",
    "arr1=np.array([[1,2,3],[4,5,6]])\n",
    "arr2=np.array([[5,6,7],[7,8,9]])\n",
    "arr=np.concatenate((arr1,arr2),axis=1)\n",
    "#1 leads to concatenation along row\n",
    "arr3=np.concatenate((arr1,arr2),axis=0)\n",
    "#0 leads to concatenation along column\n",
    "print(arr)\n",
    "print(arr3)"
   ]
  },
  {
   "cell_type": "markdown",
   "id": "00667bd5-57d5-406a-983a-904e3d2febb6",
   "metadata": {},
   "source": [
    "**SPLITTING NUMPY ARRAYS**"
   ]
  },
  {
   "cell_type": "code",
   "execution_count": 57,
   "id": "37ced52b-6d5a-47ea-a885-737eabc701aa",
   "metadata": {},
   "outputs": [
    {
     "name": "stdout",
     "output_type": "stream",
     "text": [
      "[array([1, 2]), array([3, 4]), array([5, 6])]\n"
     ]
    }
   ],
   "source": [
    "#Splitting the array in 3 parts :\n",
    "c=np.array([1,2,3,4,5,6])\n",
    "d=np.array_split(c,3)\n",
    "#here 3 is the no of parts\n",
    "print(d)"
   ]
  },
  {
   "cell_type": "code",
   "execution_count": 59,
   "id": "0d0cd679-b877-451f-8ed8-f75040c32ee9",
   "metadata": {},
   "outputs": [
    {
     "name": "stdout",
     "output_type": "stream",
     "text": [
      "[array([1, 2]), array([3, 4]), array([5]), array([6])]\n"
     ]
    }
   ],
   "source": [
    "#splitting array in 4 parts\n",
    "c=np.array([1,2,3,4,5,6])\n",
    "d=np.array_split(c,4)\n",
    "#here 4 is the no of parts\n",
    "print(d)"
   ]
  },
  {
   "cell_type": "markdown",
   "id": "91fa8c7a-b9b6-42bb-9cb4-03617c1c5f2b",
   "metadata": {},
   "source": [
    "**RAVEL AND FLATTEN FUNCTION**"
   ]
  },
  {
   "cell_type": "raw",
   "id": "43091055-1d89-41ff-ace6-5464138fe572",
   "metadata": {},
   "source": [
    "RAVEL CONVERTS THE MULTIDIMENSIONAL ARRAY INTO 1D ARRAY.RAVEL AND FLATTEN FUNCTION DOES THE SAME WORK ."
   ]
  },
  {
   "cell_type": "code",
   "execution_count": 62,
   "id": "6608ae8a-c658-4f5a-b772-39b68feb2f0e",
   "metadata": {},
   "outputs": [
    {
     "name": "stdout",
     "output_type": "stream",
     "text": [
      "[[[1 2 3]\n",
      "  [4 5 6]\n",
      "  [7 8 9]]]\n",
      "3\n",
      "[1 2 3 4 5 6 7 8 9]\n",
      "now the new dimension is 1\n"
     ]
    }
   ],
   "source": [
    "m=np.array([[[1,2,3],[4,5,6],[7,8,9]]])\n",
    "print(m)\n",
    "print(m.ndim)\n",
    "n=m.ravel()\n",
    "print(n)\n",
    "print(\"now the new dimension is\",n.ndim)"
   ]
  },
  {
   "cell_type": "code",
   "execution_count": 64,
   "id": "9aecfb85-fe43-4bbb-b532-69df4e20e96d",
   "metadata": {},
   "outputs": [
    {
     "name": "stdout",
     "output_type": "stream",
     "text": [
      "[[[1 2 3]\n",
      "  [4 5 6]\n",
      "  [7 8 9]]]\n",
      "3\n",
      "[1 2 3 4 5 6 7 8 9]\n",
      "now the new dimension is 1\n"
     ]
    }
   ],
   "source": [
    "m=np.array([[[1,2,3],[4,5,6],[7,8,9]]])\n",
    "print(m)\n",
    "print(m.ndim)\n",
    "n=m.flatten()\n",
    "print(n)\n",
    "print(\"now the new dimension is\",n.ndim)"
   ]
  },
  {
   "cell_type": "code",
   "execution_count": 66,
   "id": "509f3440-c4f9-4de4-8703-fb6a17aba603",
   "metadata": {},
   "outputs": [
    {
     "name": "stdout",
     "output_type": "stream",
     "text": [
      "[[[[1 2 3]\n",
      "   [4 5 6]\n",
      "   [7 8 9]]]]\n",
      "4\n",
      "[1 2 3 4 5 6 7 8 9]\n",
      "now the new dimension is 1\n"
     ]
    }
   ],
   "source": [
    "m=np.array([[[[1,2,3],[4,5,6],[7,8,9]]]])\n",
    "print(m)\n",
    "print(m.ndim)\n",
    "n=m.flatten()\n",
    "print(n)\n",
    "print(\"now the new dimension is\",n.ndim)"
   ]
  },
  {
   "cell_type": "markdown",
   "id": "16602701-c825-4546-9170-9bacbb6435e8",
   "metadata": {},
   "source": [
    "**UNIQUE FUNCTION**"
   ]
  },
  {
   "cell_type": "code",
   "execution_count": 69,
   "id": "a77e0996-14ea-4fbf-bfff-f521e074c1e7",
   "metadata": {},
   "outputs": [
    {
     "name": "stdout",
     "output_type": "stream",
     "text": [
      "[1 8 5 9 5 9 6 4 8 3 2 1 2 9 7]\n",
      "[1 2 3 4 5 6 7 8 9]\n"
     ]
    }
   ],
   "source": [
    "k=np.array([1,8,5,9,5,9,6,4,8,3,2,1,2,9,7])\n",
    "print(k)\n",
    "x=np.unique(k)\n",
    "print(x)"
   ]
  },
  {
   "cell_type": "code",
   "execution_count": 71,
   "id": "b74f7280-5cf0-4780-b3db-a2ea76ff04c4",
   "metadata": {},
   "outputs": [
    {
     "name": "stdout",
     "output_type": "stream",
     "text": [
      "[1 8 5 9 5 9 6 4 8 3 2 1 2 9 7]\n",
      "(array([1, 2, 3, 4, 5, 6, 7, 8, 9]), array([ 0, 10,  9,  7,  2,  6, 14,  1,  3], dtype=int64))\n"
     ]
    }
   ],
   "source": [
    "k=np.array([1,8,5,9,5,9,6,4,8,3,2,1,2,9,7])\n",
    "print(k)\n",
    "x=np.unique(k,return_index=True)\n",
    "print(x)"
   ]
  },
  {
   "cell_type": "code",
   "execution_count": 73,
   "id": "c7caa3fe-aac7-4fa7-bcb7-dee584c69518",
   "metadata": {},
   "outputs": [
    {
     "name": "stdout",
     "output_type": "stream",
     "text": [
      "[1 8 5 9 5 9 6 4 8 3 2 1 2 9 7]\n",
      "(array([1, 2, 3, 4, 5, 6, 7, 8, 9]), array([ 0, 10,  9,  7,  2,  6, 14,  1,  3], dtype=int64), array([2, 2, 1, 1, 2, 1, 1, 2, 3], dtype=int64))\n"
     ]
    }
   ],
   "source": [
    "k=np.array([1,8,5,9,5,9,6,4,8,3,2,1,2,9,7])\n",
    "print(k)\n",
    "x=np.unique(k,return_index=True,return_counts=True)\n",
    "print(x)"
   ]
  },
  {
   "cell_type": "markdown",
   "id": "d9595e4c-37c2-45bc-9b03-e8cb4f8059e5",
   "metadata": {},
   "source": [
    "**DELETE FUNCTION**"
   ]
  },
  {
   "cell_type": "code",
   "execution_count": 76,
   "id": "5df5fb97-2935-428a-85aa-d3bf63b8a091",
   "metadata": {},
   "outputs": [
    {
     "name": "stdout",
     "output_type": "stream",
     "text": [
      "[12 13 15 16]\n"
     ]
    }
   ],
   "source": [
    "a=np.array([12,13,14,15,16])\n",
    "d=np.delete(a,[2])\n",
    "print(d)"
   ]
  },
  {
   "cell_type": "code",
   "execution_count": 78,
   "id": "144380dd-d643-4c9c-a950-eb1ab59f0e3d",
   "metadata": {},
   "outputs": [
    {
     "name": "stdout",
     "output_type": "stream",
     "text": [
      "[[ 2  7  6  8  9]\n",
      " [ 3  4  5  7  1]\n",
      " [16 17 18 19 20]]\n",
      "[[ 2  7  6  8  9]\n",
      " [16 17 18 19 20]]\n"
     ]
    }
   ],
   "source": [
    "x=np.array([[2,7,6,8,9],[3,4,5,7,1],[16,17,18,19,20]])\n",
    "print(x)\n",
    "y=np.delete(x,1,axis=0)\n",
    "#delete the complete list at index 1\n",
    "print(y)"
   ]
  },
  {
   "cell_type": "code",
   "execution_count": 80,
   "id": "692eb0af-2ddf-4a95-a22f-0c7077bac72e",
   "metadata": {},
   "outputs": [
    {
     "name": "stdout",
     "output_type": "stream",
     "text": [
      "[ 2  7  6  8  9  4  5  7  1 16 17 18 19 20]\n"
     ]
    }
   ],
   "source": [
    "x_flat=x.flatten()\n",
    "#flatten converts the array into 1d array\n",
    "x_flat=np.delete(x_flat,5)\n",
    "print(x_flat)"
   ]
  },
  {
   "cell_type": "code",
   "execution_count": 82,
   "id": "77b939aa-c179-43f6-95f1-851c5c0d2f99",
   "metadata": {},
   "outputs": [
    {
     "name": "stdout",
     "output_type": "stream",
     "text": [
      "[[ 2  7  6  8  9  4  5]\n",
      " [ 7  1 16 17 18 19 20]]\n"
     ]
    }
   ],
   "source": [
    "x = x_flat.reshape(2, 7)\n",
    "\n",
    "print(x)"
   ]
  },
  {
   "cell_type": "markdown",
   "id": "27222457-5da1-496f-96b6-95e6cf6f074f",
   "metadata": {},
   "source": [
    "**COPY FUNCTION**"
   ]
  },
  {
   "cell_type": "code",
   "execution_count": 85,
   "id": "02d50262-e092-4030-af11-22fa7f92539f",
   "metadata": {},
   "outputs": [
    {
     "name": "stdout",
     "output_type": "stream",
     "text": [
      "[1 2 3 4 5]\n",
      "[9 2 3 4 5]\n"
     ]
    }
   ],
   "source": [
    "#copy function copy the array in another array where called and if change is \n",
    "#made in copied array the will not be made in original array\n",
    "original_array=np.array([1,2,3,4,5])\n",
    "coppied_array=original_array.copy()\n",
    "coppied_array[0]=9\n",
    "print(original_array)\n",
    "print(coppied_array)"
   ]
  },
  {
   "cell_type": "markdown",
   "id": "0565c719-25f4-4b43-aec9-8ae4f1eba3cc",
   "metadata": {},
   "source": [
    "**VIEW FUNCTION**"
   ]
  },
  {
   "cell_type": "code",
   "execution_count": 88,
   "id": "0a96ad6c-a076-4218-a404-cfb564f36db4",
   "metadata": {},
   "outputs": [
    {
     "name": "stdout",
     "output_type": "stream",
     "text": [
      "[9 2 3 4 5]\n",
      "[9 2 3 4 5]\n"
     ]
    }
   ],
   "source": [
    "#view function makes change in array_view as well in original_array\n",
    "original_array=np.array([1,2,3,4,5])\n",
    "array_view=original_array.view()\n",
    "array_view[0]=9\n",
    "print(original_array)\n",
    "print(array_view)"
   ]
  },
  {
   "cell_type": "code",
   "execution_count": null,
   "id": "74b25349-41b6-4231-b3ea-d76395f230da",
   "metadata": {},
   "outputs": [],
   "source": []
  }
 ],
 "metadata": {
  "kernelspec": {
   "display_name": "Python 3 (ipykernel)",
   "language": "python",
   "name": "python3"
  },
  "language_info": {
   "codemirror_mode": {
    "name": "ipython",
    "version": 3
   },
   "file_extension": ".py",
   "mimetype": "text/x-python",
   "name": "python",
   "nbconvert_exporter": "python",
   "pygments_lexer": "ipython3",
   "version": "3.10.9"
  }
 },
 "nbformat": 4,
 "nbformat_minor": 5
}
